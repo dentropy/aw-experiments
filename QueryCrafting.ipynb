{
 "cells": [
  {
   "cell_type": "code",
   "execution_count": 1,
   "id": "a493e15f-6b1d-4e04-a232-83dce65eb171",
   "metadata": {},
   "outputs": [],
   "source": [
    " %load_ext sql"
   ]
  },
  {
   "cell_type": "code",
   "execution_count": 2,
   "id": "21f3e921-7692-475f-a5f0-2618fd0f384d",
   "metadata": {},
   "outputs": [],
   "source": [
    "%sql sqlite:////media/paul/LinuxStuff/Mega/QuantifiedSelf/ActivityWatch/peewee-sqlite.v2.db"
   ]
  },
  {
   "cell_type": "markdown",
   "id": "0ccaa36e-4382-40ca-9741-0d62a0ed1e1a",
   "metadata": {},
   "source": [
    "## Get table of just URLs logs from ActivityWatch"
   ]
  },
  {
   "cell_type": "code",
   "execution_count": 3,
   "id": "6b847ffc-ff52-4b8d-8f39-6039ee10268b",
   "metadata": {},
   "outputs": [
    {
     "name": "stdout",
     "output_type": "stream",
     "text": [
      " * sqlite:////media/paul/LinuxStuff/Mega/QuantifiedSelf/ActivityWatch/peewee-sqlite.v2.db\n",
      "Done.\n"
     ]
    },
    {
     "data": {
      "text/html": [
       "<table>\n",
       "    <tr>\n",
       "        <th>json_object</th>\n",
       "    </tr>\n",
       "    <tr>\n",
       "        <td>chrome://newtab/</td>\n",
       "    </tr>\n",
       "    <tr>\n",
       "        <td>https://duckduckgo.com/?q=The+secret+language+of+relationships&amp;t=brave&amp;ia=web</td>\n",
       "    </tr>\n",
       "    <tr>\n",
       "        <td>chrome://newtab/</td>\n",
       "    </tr>\n",
       "    <tr>\n",
       "        <td>http://localhost:5600/#/timeline</td>\n",
       "    </tr>\n",
       "    <tr>\n",
       "        <td></td>\n",
       "    </tr>\n",
       "    <tr>\n",
       "        <td>chrome://newtab/</td>\n",
       "    </tr>\n",
       "    <tr>\n",
       "        <td>https://www.linkedin.com/</td>\n",
       "    </tr>\n",
       "    <tr>\n",
       "        <td></td>\n",
       "    </tr>\n",
       "    <tr>\n",
       "        <td>chrome://newtab/</td>\n",
       "    </tr>\n",
       "    <tr>\n",
       "        <td>https://duckduckgo.com/?q=Alernative+to+Sessionbox&amp;t=brave&amp;ia=web</td>\n",
       "    </tr>\n",
       "</table>"
      ],
      "text/plain": [
       "[('chrome://newtab/',),\n",
       " ('https://duckduckgo.com/?q=The+secret+language+of+relationships&t=brave&ia=web',),\n",
       " ('chrome://newtab/',),\n",
       " ('http://localhost:5600/#/timeline',),\n",
       " ('',),\n",
       " ('chrome://newtab/',),\n",
       " ('https://www.linkedin.com/',),\n",
       " ('',),\n",
       " ('chrome://newtab/',),\n",
       " ('https://duckduckgo.com/?q=Alernative+to+Sessionbox&t=brave&ia=web',)]"
      ]
     },
     "execution_count": 3,
     "metadata": {},
     "output_type": "execute_result"
    }
   ],
   "source": [
    "%%sql\n",
    "select  json_extract(datastr,'$.url') as json_object \n",
    "from eventmodel \n",
    "where typeof(json_object) != 'null'\n",
    "LIMIT 10;"
   ]
  },
  {
   "cell_type": "markdown",
   "id": "647a0851-d1fc-4dad-8859-f89615852678",
   "metadata": {},
   "source": [
    "## Practice Slicing and Dicing the URLs to get domain names"
   ]
  },
  {
   "cell_type": "code",
   "execution_count": 4,
   "id": "0230e7f8-3351-4e78-b1f4-566561756f58",
   "metadata": {},
   "outputs": [
    {
     "name": "stdout",
     "output_type": "stream",
     "text": [
      " * sqlite:////media/paul/LinuxStuff/Mega/QuantifiedSelf/ActivityWatch/peewee-sqlite.v2.db\n",
      "Done.\n"
     ]
    },
    {
     "data": {
      "text/html": [
       "<table>\n",
       "    <tr>\n",
       "        <th>URLs</th>\n",
       "        <th>slash_pos_in_url</th>\n",
       "    </tr>\n",
       "    <tr>\n",
       "        <td>chrome://newtab/</td>\n",
       "        <td>8</td>\n",
       "    </tr>\n",
       "    <tr>\n",
       "        <td>https://duckduckgo.com/?q=The+secret+language+of+relationships&amp;t=brave&amp;ia=web</td>\n",
       "        <td>7</td>\n",
       "    </tr>\n",
       "    <tr>\n",
       "        <td>chrome://newtab/</td>\n",
       "        <td>8</td>\n",
       "    </tr>\n",
       "    <tr>\n",
       "        <td>http://localhost:5600/#/timeline</td>\n",
       "        <td>6</td>\n",
       "    </tr>\n",
       "    <tr>\n",
       "        <td></td>\n",
       "        <td>0</td>\n",
       "    </tr>\n",
       "    <tr>\n",
       "        <td>chrome://newtab/</td>\n",
       "        <td>8</td>\n",
       "    </tr>\n",
       "    <tr>\n",
       "        <td>https://www.linkedin.com/</td>\n",
       "        <td>7</td>\n",
       "    </tr>\n",
       "    <tr>\n",
       "        <td></td>\n",
       "        <td>0</td>\n",
       "    </tr>\n",
       "    <tr>\n",
       "        <td>chrome://newtab/</td>\n",
       "        <td>8</td>\n",
       "    </tr>\n",
       "    <tr>\n",
       "        <td>https://duckduckgo.com/?q=Alernative+to+Sessionbox&amp;t=brave&amp;ia=web</td>\n",
       "        <td>7</td>\n",
       "    </tr>\n",
       "</table>"
      ],
      "text/plain": [
       "[('chrome://newtab/', 8),\n",
       " ('https://duckduckgo.com/?q=The+secret+language+of+relationships&t=brave&ia=web', 7),\n",
       " ('chrome://newtab/', 8),\n",
       " ('http://localhost:5600/#/timeline', 6),\n",
       " ('', 0),\n",
       " ('chrome://newtab/', 8),\n",
       " ('https://www.linkedin.com/', 7),\n",
       " ('', 0),\n",
       " ('chrome://newtab/', 8),\n",
       " ('https://duckduckgo.com/?q=Alernative+to+Sessionbox&t=brave&ia=web', 7)]"
      ]
     },
     "execution_count": 4,
     "metadata": {},
     "output_type": "execute_result"
    }
   ],
   "source": [
    "%%sql\n",
    "select  json_extract(datastr,'$.url') as URLs, instr(  json_extract(datastr,'$.url')  , '/') as slash_pos_in_url\n",
    "from eventmodel \n",
    "where typeof(URLs) != 'null'\n",
    "LIMIT 10;"
   ]
  },
  {
   "cell_type": "code",
   "execution_count": 5,
   "id": "da740876-f82e-466e-a739-a4dc7e184936",
   "metadata": {},
   "outputs": [
    {
     "name": "stdout",
     "output_type": "stream",
     "text": [
      " * sqlite:////media/paul/LinuxStuff/Mega/QuantifiedSelf/ActivityWatch/peewee-sqlite.v2.db\n",
      "Done.\n"
     ]
    },
    {
     "data": {
      "text/html": [
       "<table>\n",
       "    <tr>\n",
       "        <th>URLs</th>\n",
       "        <th>url_substring</th>\n",
       "    </tr>\n",
       "    <tr>\n",
       "        <td>chrome://newtab/</td>\n",
       "        <td>//newtab/</td>\n",
       "    </tr>\n",
       "    <tr>\n",
       "        <td>https://duckduckgo.com/?q=The+secret+language+of+relationships&amp;t=brave&amp;ia=web</td>\n",
       "        <td>//duckduckgo.com/?q=The+secret+language+of+relationships&amp;t=brave&amp;ia=web</td>\n",
       "    </tr>\n",
       "    <tr>\n",
       "        <td>chrome://newtab/</td>\n",
       "        <td>//newtab/</td>\n",
       "    </tr>\n",
       "    <tr>\n",
       "        <td>http://localhost:5600/#/timeline</td>\n",
       "        <td>//localhost:5600/#/timeline</td>\n",
       "    </tr>\n",
       "    <tr>\n",
       "        <td></td>\n",
       "        <td></td>\n",
       "    </tr>\n",
       "    <tr>\n",
       "        <td>chrome://newtab/</td>\n",
       "        <td>//newtab/</td>\n",
       "    </tr>\n",
       "    <tr>\n",
       "        <td>https://www.linkedin.com/</td>\n",
       "        <td>//www.linkedin.com/</td>\n",
       "    </tr>\n",
       "    <tr>\n",
       "        <td></td>\n",
       "        <td></td>\n",
       "    </tr>\n",
       "    <tr>\n",
       "        <td>chrome://newtab/</td>\n",
       "        <td>//newtab/</td>\n",
       "    </tr>\n",
       "    <tr>\n",
       "        <td>https://duckduckgo.com/?q=Alernative+to+Sessionbox&amp;t=brave&amp;ia=web</td>\n",
       "        <td>//duckduckgo.com/?q=Alernative+to+Sessionbox&amp;t=brave&amp;ia=web</td>\n",
       "    </tr>\n",
       "</table>"
      ],
      "text/plain": [
       "[('chrome://newtab/', '//newtab/'),\n",
       " ('https://duckduckgo.com/?q=The+secret+language+of+relationships&t=brave&ia=web', '//duckduckgo.com/?q=The+secret+language+of+relationships&t=brave&ia=web'),\n",
       " ('chrome://newtab/', '//newtab/'),\n",
       " ('http://localhost:5600/#/timeline', '//localhost:5600/#/timeline'),\n",
       " ('', ''),\n",
       " ('chrome://newtab/', '//newtab/'),\n",
       " ('https://www.linkedin.com/', '//www.linkedin.com/'),\n",
       " ('', ''),\n",
       " ('chrome://newtab/', '//newtab/'),\n",
       " ('https://duckduckgo.com/?q=Alernative+to+Sessionbox&t=brave&ia=web', '//duckduckgo.com/?q=Alernative+to+Sessionbox&t=brave&ia=web')]"
      ]
     },
     "execution_count": 5,
     "metadata": {},
     "output_type": "execute_result"
    }
   ],
   "source": [
    "%%sql\n",
    "select  json_extract(datastr,'$.url') as URLs, \n",
    "  substr ( json_extract(datastr,'$.url') , instr(  json_extract(datastr,'$.url')  , '/') ) as url_substring \n",
    "from eventmodel \n",
    "where typeof(URLs) != 'null'\n",
    "LIMIT 10;"
   ]
  },
  {
   "cell_type": "code",
   "execution_count": 6,
   "id": "62117fdb-4651-4eaf-867e-b0ad4cba05e0",
   "metadata": {},
   "outputs": [
    {
     "name": "stdout",
     "output_type": "stream",
     "text": [
      " * sqlite:////media/paul/LinuxStuff/Mega/QuantifiedSelf/ActivityWatch/peewee-sqlite.v2.db\n",
      "Done.\n"
     ]
    },
    {
     "data": {
      "text/html": [
       "<table>\n",
       "    <tr>\n",
       "        <th>URLs</th>\n",
       "        <th>url_substring</th>\n",
       "    </tr>\n",
       "    <tr>\n",
       "        <td>chrome://newtab/</td>\n",
       "        <td>newtab/</td>\n",
       "    </tr>\n",
       "    <tr>\n",
       "        <td>https://duckduckgo.com/?q=The+secret+language+of+relationships&amp;t=brave&amp;ia=web</td>\n",
       "        <td>duckduckgo.com/?q=The+secret+language+of+relationships&amp;t=brave&amp;ia=web</td>\n",
       "    </tr>\n",
       "    <tr>\n",
       "        <td>chrome://newtab/</td>\n",
       "        <td>newtab/</td>\n",
       "    </tr>\n",
       "    <tr>\n",
       "        <td>http://localhost:5600/#/timeline</td>\n",
       "        <td>localhost:5600/#/timeline</td>\n",
       "    </tr>\n",
       "    <tr>\n",
       "        <td></td>\n",
       "        <td></td>\n",
       "    </tr>\n",
       "    <tr>\n",
       "        <td>chrome://newtab/</td>\n",
       "        <td>newtab/</td>\n",
       "    </tr>\n",
       "    <tr>\n",
       "        <td>https://www.linkedin.com/</td>\n",
       "        <td>www.linkedin.com/</td>\n",
       "    </tr>\n",
       "    <tr>\n",
       "        <td></td>\n",
       "        <td></td>\n",
       "    </tr>\n",
       "    <tr>\n",
       "        <td>chrome://newtab/</td>\n",
       "        <td>newtab/</td>\n",
       "    </tr>\n",
       "    <tr>\n",
       "        <td>https://duckduckgo.com/?q=Alernative+to+Sessionbox&amp;t=brave&amp;ia=web</td>\n",
       "        <td>duckduckgo.com/?q=Alernative+to+Sessionbox&amp;t=brave&amp;ia=web</td>\n",
       "    </tr>\n",
       "    <tr>\n",
       "        <td>https://www.remote.tools/sessionbox/alternatives</td>\n",
       "        <td>www.remote.tools/sessionbox/alternatives</td>\n",
       "    </tr>\n",
       "    <tr>\n",
       "        <td>https://alternativeto.net/software/session-box/</td>\n",
       "        <td>alternativeto.net/software/session-box/</td>\n",
       "    </tr>\n",
       "    <tr>\n",
       "        <td>https://alternativeto.net/software/tab-session-manager/about/</td>\n",
       "        <td>alternativeto.net/software/tab-session-manager/about/</td>\n",
       "    </tr>\n",
       "    <tr>\n",
       "        <td>https://alternativeto.net/software/session-box/</td>\n",
       "        <td>alternativeto.net/software/session-box/</td>\n",
       "    </tr>\n",
       "    <tr>\n",
       "        <td>https://www.linkedin.com/feed/?trk=homepage-basic_signin-form_submit</td>\n",
       "        <td>www.linkedin.com/feed/?trk=homepage-basic_signin-form_submit</td>\n",
       "    </tr>\n",
       "    <tr>\n",
       "        <td>https://www.linkedin.com/feed/?trk=homepage-basic_signin-form_submit</td>\n",
       "        <td>www.linkedin.com/feed/?trk=homepage-basic_signin-form_submit</td>\n",
       "    </tr>\n",
       "    <tr>\n",
       "        <td></td>\n",
       "        <td></td>\n",
       "    </tr>\n",
       "    <tr>\n",
       "        <td>chrome://newtab/</td>\n",
       "        <td>newtab/</td>\n",
       "    </tr>\n",
       "    <tr>\n",
       "        <td>https://duckduckgo.com/?q=how+to+wish+someone+well+with+a+sick+loved+one&amp;t=brave&amp;ia=web</td>\n",
       "        <td>duckduckgo.com/?q=how+to+wish+someone+well+with+a+sick+loved+one&amp;t=brave&amp;ia=web</td>\n",
       "    </tr>\n",
       "    <tr>\n",
       "        <td>https://www.joincake.com/blog/what-to-say-to-someone-who-has-a-sick-family-member/</td>\n",
       "        <td>www.joincake.com/blog/what-to-say-to-someone-who-has-a-sick-family-member/</td>\n",
       "    </tr>\n",
       "</table>"
      ],
      "text/plain": [
       "[('chrome://newtab/', 'newtab/'),\n",
       " ('https://duckduckgo.com/?q=The+secret+language+of+relationships&t=brave&ia=web', 'duckduckgo.com/?q=The+secret+language+of+relationships&t=brave&ia=web'),\n",
       " ('chrome://newtab/', 'newtab/'),\n",
       " ('http://localhost:5600/#/timeline', 'localhost:5600/#/timeline'),\n",
       " ('', ''),\n",
       " ('chrome://newtab/', 'newtab/'),\n",
       " ('https://www.linkedin.com/', 'www.linkedin.com/'),\n",
       " ('', ''),\n",
       " ('chrome://newtab/', 'newtab/'),\n",
       " ('https://duckduckgo.com/?q=Alernative+to+Sessionbox&t=brave&ia=web', 'duckduckgo.com/?q=Alernative+to+Sessionbox&t=brave&ia=web'),\n",
       " ('https://www.remote.tools/sessionbox/alternatives', 'www.remote.tools/sessionbox/alternatives'),\n",
       " ('https://alternativeto.net/software/session-box/', 'alternativeto.net/software/session-box/'),\n",
       " ('https://alternativeto.net/software/tab-session-manager/about/', 'alternativeto.net/software/tab-session-manager/about/'),\n",
       " ('https://alternativeto.net/software/session-box/', 'alternativeto.net/software/session-box/'),\n",
       " ('https://www.linkedin.com/feed/?trk=homepage-basic_signin-form_submit', 'www.linkedin.com/feed/?trk=homepage-basic_signin-form_submit'),\n",
       " ('https://www.linkedin.com/feed/?trk=homepage-basic_signin-form_submit', 'www.linkedin.com/feed/?trk=homepage-basic_signin-form_submit'),\n",
       " ('', ''),\n",
       " ('chrome://newtab/', 'newtab/'),\n",
       " ('https://duckduckgo.com/?q=how+to+wish+someone+well+with+a+sick+loved+one&t=brave&ia=web', 'duckduckgo.com/?q=how+to+wish+someone+well+with+a+sick+loved+one&t=brave&ia=web'),\n",
       " ('https://www.joincake.com/blog/what-to-say-to-someone-who-has-a-sick-family-member/', 'www.joincake.com/blog/what-to-say-to-someone-who-has-a-sick-family-member/')]"
      ]
     },
     "execution_count": 6,
     "metadata": {},
     "output_type": "execute_result"
    }
   ],
   "source": [
    "%%sql\n",
    "select  json_extract(datastr,'$.url') as URLs, \n",
    "  substr ( json_extract(datastr,'$.url') , instr(  json_extract(datastr,'$.url')  , '/') + 2 ) as url_substring \n",
    "from eventmodel \n",
    "where typeof(URLs) != 'null'\n",
    "LIMIT 20;"
   ]
  },
  {
   "cell_type": "markdown",
   "id": "6188774c-ec43-4dd6-bd9e-bda02c05f49c",
   "metadata": {},
   "source": [
    "## Substring is hard to work with there has to be a way to split a string using a delimiter\n",
    "\n",
    "Source: [How to Split String into Array? : sqlite](https://old.reddit.com/r/sqlite/comments/s4b29t/how_to_split_string_into_array/)"
   ]
  },
  {
   "cell_type": "code",
   "execution_count": 7,
   "id": "58567435-89cc-4744-a3f5-17ca88a5c874",
   "metadata": {},
   "outputs": [
    {
     "name": "stdout",
     "output_type": "stream",
     "text": [
      " * sqlite:////media/paul/LinuxStuff/Mega/QuantifiedSelf/ActivityWatch/peewee-sqlite.v2.db\n",
      "Done.\n"
     ]
    },
    {
     "data": {
      "text/html": [
       "<table>\n",
       "    <tr>\n",
       "        <th>value</th>\n",
       "    </tr>\n",
       "    <tr>\n",
       "        <td>coffee</td>\n",
       "    </tr>\n",
       "    <tr>\n",
       "        <td>apple</td>\n",
       "    </tr>\n",
       "    <tr>\n",
       "        <td>orange</td>\n",
       "    </tr>\n",
       "</table>"
      ],
      "text/plain": [
       "[('coffee',), ('apple',), ('orange',)]"
      ]
     },
     "execution_count": 7,
     "metadata": {},
     "output_type": "execute_result"
    }
   ],
   "source": [
    "%%sql\n",
    "select foods.value \n",
    "from json_each('[\"' || replace('coffee:apple:orange', ':', '\",\"') || '\"]') as foods;"
   ]
  },
  {
   "cell_type": "code",
   "execution_count": 8,
   "id": "f29af69a-97c6-45d8-b8de-6513fa4e7e6c",
   "metadata": {},
   "outputs": [
    {
     "name": "stdout",
     "output_type": "stream",
     "text": [
      " * sqlite:////media/paul/LinuxStuff/Mega/QuantifiedSelf/ActivityWatch/peewee-sqlite.v2.db\n",
      "Done.\n"
     ]
    },
    {
     "data": {
      "text/html": [
       "<table>\n",
       "    <tr>\n",
       "        <th>value</th>\n",
       "    </tr>\n",
       "    <tr>\n",
       "        <td>https:</td>\n",
       "    </tr>\n",
       "    <tr>\n",
       "        <td></td>\n",
       "    </tr>\n",
       "    <tr>\n",
       "        <td>www.sqlite.org</td>\n",
       "    </tr>\n",
       "    <tr>\n",
       "        <td>lang_expr.html#regexp</td>\n",
       "    </tr>\n",
       "</table>"
      ],
      "text/plain": [
       "[('https:',), ('',), ('www.sqlite.org',), ('lang_expr.html#regexp',)]"
      ]
     },
     "execution_count": 8,
     "metadata": {},
     "output_type": "execute_result"
    }
   ],
   "source": [
    "%%sql\n",
    "select domain_name.value\n",
    "from json_each('[\"' || replace('https://www.sqlite.org/lang_expr.html#regexp', '/', '\",\"') || '\"]') as domain_name;"
   ]
  },
  {
   "cell_type": "code",
   "execution_count": 9,
   "id": "b6d15c79-ddbf-494d-a48b-dbd919ef8413",
   "metadata": {},
   "outputs": [
    {
     "name": "stdout",
     "output_type": "stream",
     "text": [
      " * sqlite:////media/paul/LinuxStuff/Mega/QuantifiedSelf/ActivityWatch/peewee-sqlite.v2.db\n",
      "Done.\n"
     ]
    },
    {
     "data": {
      "text/html": [
       "<table>\n",
       "    <tr>\n",
       "        <th>json_object</th>\n",
       "    </tr>\n",
       "    <tr>\n",
       "        <td>https://www.remote.tools/sessionbox/alternatives</td>\n",
       "    </tr>\n",
       "</table>"
      ],
      "text/plain": [
       "[('https://www.remote.tools/sessionbox/alternatives',)]"
      ]
     },
     "execution_count": 9,
     "metadata": {},
     "output_type": "execute_result"
    }
   ],
   "source": [
    "%%sql\n",
    "select  json_extract(datastr,'$.url') as json_object \n",
    "from eventmodel \n",
    "where typeof(json_object) != 'null'\n",
    "LIMIT 1 OFFSET 10;"
   ]
  },
  {
   "cell_type": "code",
   "execution_count": 10,
   "id": "10b95ac7-aef6-4f5a-aaf7-1a2e19974b08",
   "metadata": {},
   "outputs": [
    {
     "name": "stdout",
     "output_type": "stream",
     "text": [
      " * sqlite:////media/paul/LinuxStuff/Mega/QuantifiedSelf/ActivityWatch/peewee-sqlite.v2.db\n",
      "Done.\n"
     ]
    },
    {
     "data": {
      "text/html": [
       "<table>\n",
       "    <tr>\n",
       "        <th>value</th>\n",
       "    </tr>\n",
       "    <tr>\n",
       "        <td>https:</td>\n",
       "    </tr>\n",
       "    <tr>\n",
       "        <td></td>\n",
       "    </tr>\n",
       "    <tr>\n",
       "        <td>www.remote.tools</td>\n",
       "    </tr>\n",
       "    <tr>\n",
       "        <td>sessionbox</td>\n",
       "    </tr>\n",
       "    <tr>\n",
       "        <td>alternatives</td>\n",
       "    </tr>\n",
       "</table>"
      ],
      "text/plain": [
       "[('https:',), ('',), ('www.remote.tools',), ('sessionbox',), ('alternatives',)]"
      ]
     },
     "execution_count": 10,
     "metadata": {},
     "output_type": "execute_result"
    }
   ],
   "source": [
    "%%sql\n",
    "select domain_name.value\n",
    "from json_each('[\"' || replace(\n",
    "        (select  json_extract(datastr,'$.url') as json_object \n",
    "        from eventmodel \n",
    "        where typeof(json_object) != 'null'\n",
    "        LIMIT 1 OFFSET 10)\n",
    ", '/', '\",\"') || '\"]') as domain_name;"
   ]
  },
  {
   "cell_type": "code",
   "execution_count": 11,
   "id": "7983c364-3def-4165-90da-c840114d75a6",
   "metadata": {},
   "outputs": [
    {
     "name": "stdout",
     "output_type": "stream",
     "text": [
      " * sqlite:////media/paul/LinuxStuff/Mega/QuantifiedSelf/ActivityWatch/peewee-sqlite.v2.db\n",
      "Done.\n"
     ]
    },
    {
     "data": {
      "text/html": [
       "<table>\n",
       "    <tr>\n",
       "        <th>value</th>\n",
       "    </tr>\n",
       "    <tr>\n",
       "        <td>www.remote.tools</td>\n",
       "    </tr>\n",
       "</table>"
      ],
      "text/plain": [
       "[('www.remote.tools',)]"
      ]
     },
     "execution_count": 11,
     "metadata": {},
     "output_type": "execute_result"
    }
   ],
   "source": [
    "%%sql\n",
    "select domain_name.value\n",
    "from json_each('[\"' || replace(\n",
    "        (select  json_extract(datastr,'$.url') as json_object \n",
    "        from eventmodel \n",
    "        where typeof(json_object) != 'null'\n",
    "        LIMIT 1 OFFSET 10)\n",
    ", '/', '\",\"') || '\"]') as domain_name\n",
    "LIMIT 1 OFFSET 2;"
   ]
  },
  {
   "cell_type": "markdown",
   "id": "7cee6e5c-8f72-4edd-96ff-c0c9678f41b8",
   "metadata": {},
   "source": [
    "## Extract domain name from every URL"
   ]
  },
  {
   "cell_type": "code",
   "execution_count": 12,
   "id": "6b5cd19c-9ee0-4eed-875d-630d9ffe513c",
   "metadata": {},
   "outputs": [
    {
     "name": "stdout",
     "output_type": "stream",
     "text": [
      " * sqlite:////media/paul/LinuxStuff/Mega/QuantifiedSelf/ActivityWatch/peewee-sqlite.v2.db\n",
      "Done.\n"
     ]
    },
    {
     "data": {
      "text/html": [
       "<table>\n",
       "    <tr>\n",
       "        <th>URLs</th>\n",
       "        <th>test_domain_string</th>\n",
       "    </tr>\n",
       "    <tr>\n",
       "        <td>chrome://newtab/</td>\n",
       "        <td>www.sqlite.org</td>\n",
       "    </tr>\n",
       "    <tr>\n",
       "        <td>https://duckduckgo.com/?q=The+secret+language+of+relationships&amp;t=brave&amp;ia=web</td>\n",
       "        <td>www.sqlite.org</td>\n",
       "    </tr>\n",
       "    <tr>\n",
       "        <td>chrome://newtab/</td>\n",
       "        <td>www.sqlite.org</td>\n",
       "    </tr>\n",
       "    <tr>\n",
       "        <td>http://localhost:5600/#/timeline</td>\n",
       "        <td>www.sqlite.org</td>\n",
       "    </tr>\n",
       "    <tr>\n",
       "        <td></td>\n",
       "        <td>www.sqlite.org</td>\n",
       "    </tr>\n",
       "</table>"
      ],
      "text/plain": [
       "[('chrome://newtab/', 'www.sqlite.org'),\n",
       " ('https://duckduckgo.com/?q=The+secret+language+of+relationships&t=brave&ia=web', 'www.sqlite.org'),\n",
       " ('chrome://newtab/', 'www.sqlite.org'),\n",
       " ('http://localhost:5600/#/timeline', 'www.sqlite.org'),\n",
       " ('', 'www.sqlite.org')]"
      ]
     },
     "execution_count": 12,
     "metadata": {},
     "output_type": "execute_result"
    }
   ],
   "source": [
    "%%sql\n",
    "select  json_extract(datastr,'$.url') as URLs, \n",
    "(\n",
    "    select domain_name.value\n",
    "    from json_each('[\"' || replace('https://www.sqlite.org/lang_expr.html#regexp', '/', '\",\"') || '\"]') as domain_name LIMIT 1 OFFSET 2\n",
    ") as test_domain_string\n",
    "from eventmodel \n",
    "where typeof(URLs) != 'null'\n",
    "limit 5;"
   ]
  },
  {
   "cell_type": "code",
   "execution_count": 13,
   "id": "b590c1da-ff75-41f5-855d-605636266899",
   "metadata": {},
   "outputs": [
    {
     "name": "stdout",
     "output_type": "stream",
     "text": [
      " * sqlite:////media/paul/LinuxStuff/Mega/QuantifiedSelf/ActivityWatch/peewee-sqlite.v2.db\n",
      "Done.\n"
     ]
    },
    {
     "data": {
      "text/html": [
       "<table>\n",
       "    <tr>\n",
       "        <th>URLs</th>\n",
       "        <th>domain_name</th>\n",
       "    </tr>\n",
       "    <tr>\n",
       "        <td>chrome://newtab/</td>\n",
       "        <td>newtab</td>\n",
       "    </tr>\n",
       "    <tr>\n",
       "        <td>https://duckduckgo.com/?q=The+secret+language+of+relationships&amp;t=brave&amp;ia=web</td>\n",
       "        <td>duckduckgo.com</td>\n",
       "    </tr>\n",
       "    <tr>\n",
       "        <td>chrome://newtab/</td>\n",
       "        <td>newtab</td>\n",
       "    </tr>\n",
       "    <tr>\n",
       "        <td>http://localhost:5600/#/timeline</td>\n",
       "        <td>localhost:5600</td>\n",
       "    </tr>\n",
       "    <tr>\n",
       "        <td></td>\n",
       "        <td>None</td>\n",
       "    </tr>\n",
       "</table>"
      ],
      "text/plain": [
       "[('chrome://newtab/', 'newtab'),\n",
       " ('https://duckduckgo.com/?q=The+secret+language+of+relationships&t=brave&ia=web', 'duckduckgo.com'),\n",
       " ('chrome://newtab/', 'newtab'),\n",
       " ('http://localhost:5600/#/timeline', 'localhost:5600'),\n",
       " ('', None)]"
      ]
     },
     "execution_count": 13,
     "metadata": {},
     "output_type": "execute_result"
    }
   ],
   "source": [
    "%%sql\n",
    "select  json_extract(datastr,'$.url') as URLs, \n",
    "(\n",
    "    select domain_name.value\n",
    "    from json_each('[\"' || replace(json_extract(datastr,'$.url'), '/', '\",\"') || '\"]') as domain_name LIMIT 1 OFFSET 2\n",
    ") as domain_name\n",
    "from eventmodel \n",
    "where typeof(URLs) != 'null'\n",
    "limit 5;"
   ]
  },
  {
   "cell_type": "markdown",
   "id": "ba641327-1ca4-4c4d-a7b6-bad568033159",
   "metadata": {},
   "source": [
    "## Aggregation Time"
   ]
  },
  {
   "cell_type": "code",
   "execution_count": 14,
   "id": "1e7f8311-5d0f-4171-9590-9f27d410668d",
   "metadata": {},
   "outputs": [
    {
     "name": "stdout",
     "output_type": "stream",
     "text": [
      " * sqlite:////media/paul/LinuxStuff/Mega/QuantifiedSelf/ActivityWatch/peewee-sqlite.v2.db\n",
      "Done.\n"
     ]
    },
    {
     "data": {
      "text/html": [
       "<table>\n",
       "    <tr>\n",
       "        <th>domain_name</th>\n",
       "    </tr>\n",
       "    <tr>\n",
       "        <td>newtab</td>\n",
       "    </tr>\n",
       "    <tr>\n",
       "        <td>duckduckgo.com</td>\n",
       "    </tr>\n",
       "    <tr>\n",
       "        <td>newtab</td>\n",
       "    </tr>\n",
       "    <tr>\n",
       "        <td>localhost:5600</td>\n",
       "    </tr>\n",
       "    <tr>\n",
       "        <td>None</td>\n",
       "    </tr>\n",
       "</table>"
      ],
      "text/plain": [
       "[('newtab',), ('duckduckgo.com',), ('newtab',), ('localhost:5600',), (None,)]"
      ]
     },
     "execution_count": 14,
     "metadata": {},
     "output_type": "execute_result"
    }
   ],
   "source": [
    "%%sql\n",
    "select\n",
    "(\n",
    "    select domain_name.value\n",
    "    from json_each('[\"' || replace(json_extract(datastr,'$.url'), '/', '\",\"') || '\"]') as domain_name LIMIT 1 OFFSET 2\n",
    ") as domain_name\n",
    "from eventmodel \n",
    "where typeof(json_extract(datastr,'$.url')) != 'null'\n",
    "limit 5;"
   ]
  },
  {
   "cell_type": "code",
   "execution_count": 15,
   "id": "05fe2130-5c64-4f33-9954-4b03b6953568",
   "metadata": {},
   "outputs": [
    {
     "name": "stdout",
     "output_type": "stream",
     "text": [
      " * sqlite:////media/paul/LinuxStuff/Mega/QuantifiedSelf/ActivityWatch/peewee-sqlite.v2.db\n",
      "Done.\n"
     ]
    },
    {
     "data": {
      "text/html": [
       "<table>\n",
       "    <tr>\n",
       "        <th>domain_name</th>\n",
       "    </tr>\n",
       "    <tr>\n",
       "        <td>None</td>\n",
       "    </tr>\n",
       "    <tr>\n",
       "        <td></td>\n",
       "    </tr>\n",
       "    <tr>\n",
       "        <td>%20www.thinkbydoing.org</td>\n",
       "    </tr>\n",
       "    <tr>\n",
       "        <td>0.0.0.0:5001</td>\n",
       "    </tr>\n",
       "    <tr>\n",
       "        <td>0.0.0.0:8000</td>\n",
       "    </tr>\n",
       "</table>"
      ],
      "text/plain": [
       "[(None,),\n",
       " ('',),\n",
       " ('%20www.thinkbydoing.org',),\n",
       " ('0.0.0.0:5001',),\n",
       " ('0.0.0.0:8000',)]"
      ]
     },
     "execution_count": 15,
     "metadata": {},
     "output_type": "execute_result"
    }
   ],
   "source": [
    "%%sql\n",
    "select\n",
    "(\n",
    "    select domain_name.value\n",
    "    from json_each('[\"' || replace(json_extract(datastr,'$.url'), '/', '\",\"') || '\"]') as domain_name LIMIT 1 OFFSET 2\n",
    ") as domain_name\n",
    "from eventmodel \n",
    "where typeof(json_extract(datastr,'$.url')) != 'null'\n",
    "GROUP BY domain_name\n",
    "limit 5;"
   ]
  },
  {
   "cell_type": "markdown",
   "id": "c2f12420-67aa-4a6b-876f-c864722794cd",
   "metadata": {},
   "source": [
    "## Query domain names specifically"
   ]
  },
  {
   "cell_type": "code",
   "execution_count": 16,
   "id": "d1709f25-ebf6-4427-9b3a-c0466dcf8b23",
   "metadata": {},
   "outputs": [
    {
     "name": "stdout",
     "output_type": "stream",
     "text": [
      " * sqlite:////media/paul/LinuxStuff/Mega/QuantifiedSelf/ActivityWatch/peewee-sqlite.v2.db\n",
      "Done.\n"
     ]
    },
    {
     "data": {
      "text/html": [
       "<table>\n",
       "    <tr>\n",
       "        <th>distinct_domain_names</th>\n",
       "    </tr>\n",
       "    <tr>\n",
       "        <td>newtab</td>\n",
       "    </tr>\n",
       "    <tr>\n",
       "        <td>duckduckgo.com</td>\n",
       "    </tr>\n",
       "    <tr>\n",
       "        <td>localhost:5600</td>\n",
       "    </tr>\n",
       "    <tr>\n",
       "        <td>None</td>\n",
       "    </tr>\n",
       "    <tr>\n",
       "        <td>www.linkedin.com</td>\n",
       "    </tr>\n",
       "</table>"
      ],
      "text/plain": [
       "[('newtab',),\n",
       " ('duckduckgo.com',),\n",
       " ('localhost:5600',),\n",
       " (None,),\n",
       " ('www.linkedin.com',)]"
      ]
     },
     "execution_count": 16,
     "metadata": {},
     "output_type": "execute_result"
    }
   ],
   "source": [
    "%%sql\n",
    "/* List all distinct domain names */\n",
    "select\n",
    "DISTINCT (\n",
    "    select domain_name.value\n",
    "    from json_each('[\"' || replace(json_extract(datastr,'$.url'), '/', '\",\"') || '\"]') as domain_name LIMIT 1 OFFSET 2\n",
    ") as distinct_domain_names\n",
    "from eventmodel \n",
    "where typeof(json_extract(datastr,'$.url')) != 'null'\n",
    "limit 5;"
   ]
  },
  {
   "cell_type": "code",
   "execution_count": 17,
   "id": "cf8b5952-fcdb-4f04-abf6-61959143b7b8",
   "metadata": {},
   "outputs": [
    {
     "name": "stdout",
     "output_type": "stream",
     "text": [
      " * sqlite:////media/paul/LinuxStuff/Mega/QuantifiedSelf/ActivityWatch/peewee-sqlite.v2.db\n",
      "Done.\n"
     ]
    },
    {
     "data": {
      "text/html": [
       "<table>\n",
       "    <tr>\n",
       "        <th>count_distinct_domain_names</th>\n",
       "    </tr>\n",
       "    <tr>\n",
       "        <td>5148</td>\n",
       "    </tr>\n",
       "</table>"
      ],
      "text/plain": [
       "[(5148,)]"
      ]
     },
     "execution_count": 17,
     "metadata": {},
     "output_type": "execute_result"
    }
   ],
   "source": [
    "%%sql\n",
    "/* Count total of all distinct domain names */\n",
    "select\n",
    "COUNT(DISTINCT (\n",
    "    select domain_name.value\n",
    "    from json_each('[\"' || replace(json_extract(datastr,'$.url'), '/', '\",\"') || '\"]') as domain_name LIMIT 1 OFFSET 2\n",
    ")) as count_distinct_domain_names\n",
    "from eventmodel \n",
    "where typeof(json_extract(datastr,'$.url')) != 'null'\n",
    "limit 5;"
   ]
  },
  {
   "cell_type": "code",
   "execution_count": 18,
   "id": "1242dcf2-e26a-4377-91bc-7d94f41107cc",
   "metadata": {},
   "outputs": [
    {
     "name": "stdout",
     "output_type": "stream",
     "text": [
      " * sqlite:////media/paul/LinuxStuff/Mega/QuantifiedSelf/ActivityWatch/peewee-sqlite.v2.db\n",
      "Done.\n"
     ]
    },
    {
     "data": {
      "text/html": [
       "<table>\n",
       "    <tr>\n",
       "        <th>count_all_domain_names</th>\n",
       "    </tr>\n",
       "    <tr>\n",
       "        <td>263310</td>\n",
       "    </tr>\n",
       "</table>"
      ],
      "text/plain": [
       "[(263310,)]"
      ]
     },
     "execution_count": 18,
     "metadata": {},
     "output_type": "execute_result"
    }
   ],
   "source": [
    "%%sql\n",
    "/* Count toal of all URLs */\n",
    "select\n",
    "COUNT( (\n",
    "    select domain_name.value\n",
    "    from json_each('[\"' || replace(json_extract(datastr,'$.url'), '/', '\",\"') || '\"]') as domain_name LIMIT 1 OFFSET 2\n",
    ")) as count_all_domain_names\n",
    "from eventmodel \n",
    "where typeof(json_extract(datastr,'$.url')) != 'null'\n",
    "limit 5;"
   ]
  },
  {
   "cell_type": "code",
   "execution_count": 19,
   "id": "fd35f93b-cb28-4b85-a6d5-116611a3f43c",
   "metadata": {},
   "outputs": [
    {
     "name": "stdout",
     "output_type": "stream",
     "text": [
      " * sqlite:////media/paul/LinuxStuff/Mega/QuantifiedSelf/ActivityWatch/peewee-sqlite.v2.db\n",
      "Done.\n"
     ]
    },
    {
     "data": {
      "text/html": [
       "<table>\n",
       "    <tr>\n",
       "        <th>distinct_domain_names</th>\n",
       "        <th>visits</th>\n",
       "    </tr>\n",
       "    <tr>\n",
       "        <td>None</td>\n",
       "        <td>24563</td>\n",
       "    </tr>\n",
       "    <tr>\n",
       "        <td>www.youtube.com</td>\n",
       "        <td>18993</td>\n",
       "    </tr>\n",
       "    <tr>\n",
       "        <td>old.reddit.com</td>\n",
       "        <td>15850</td>\n",
       "    </tr>\n",
       "    <tr>\n",
       "        <td>discord.com</td>\n",
       "        <td>13932</td>\n",
       "    </tr>\n",
       "    <tr>\n",
       "        <td>classroom.udacity.com</td>\n",
       "        <td>11153</td>\n",
       "    </tr>\n",
       "    <tr>\n",
       "        <td>newtab</td>\n",
       "        <td>10506</td>\n",
       "    </tr>\n",
       "    <tr>\n",
       "        <td>www.lootverse.gg</td>\n",
       "        <td>8074</td>\n",
       "    </tr>\n",
       "    <tr>\n",
       "        <td>github.com</td>\n",
       "        <td>6906</td>\n",
       "    </tr>\n",
       "    <tr>\n",
       "        <td>duckduckgo.com</td>\n",
       "        <td>6693</td>\n",
       "    </tr>\n",
       "    <tr>\n",
       "        <td>mail.protonmail.com</td>\n",
       "        <td>6146</td>\n",
       "    </tr>\n",
       "    <tr>\n",
       "        <td>search.brave.com</td>\n",
       "        <td>5779</td>\n",
       "    </tr>\n",
       "    <tr>\n",
       "        <td>web.whatsapp.com</td>\n",
       "        <td>5729</td>\n",
       "    </tr>\n",
       "    <tr>\n",
       "        <td>localhost:8888</td>\n",
       "        <td>5071</td>\n",
       "    </tr>\n",
       "    <tr>\n",
       "        <td>docs.google.com</td>\n",
       "        <td>4599</td>\n",
       "    </tr>\n",
       "    <tr>\n",
       "        <td>www.netflix.com</td>\n",
       "        <td>4567</td>\n",
       "    </tr>\n",
       "    <tr>\n",
       "        <td>mail.google.com</td>\n",
       "        <td>4221</td>\n",
       "    </tr>\n",
       "    <tr>\n",
       "        <td>twitter.com</td>\n",
       "        <td>4153</td>\n",
       "    </tr>\n",
       "    <tr>\n",
       "        <td>news.ycombinator.com</td>\n",
       "        <td>3911</td>\n",
       "    </tr>\n",
       "    <tr>\n",
       "        <td>www.instagram.com</td>\n",
       "        <td>3265</td>\n",
       "    </tr>\n",
       "    <tr>\n",
       "        <td>loot.nftically.com</td>\n",
       "        <td>3120</td>\n",
       "    </tr>\n",
       "</table>"
      ],
      "text/plain": [
       "[(None, 24563),\n",
       " ('www.youtube.com', 18993),\n",
       " ('old.reddit.com', 15850),\n",
       " ('discord.com', 13932),\n",
       " ('classroom.udacity.com', 11153),\n",
       " ('newtab', 10506),\n",
       " ('www.lootverse.gg', 8074),\n",
       " ('github.com', 6906),\n",
       " ('duckduckgo.com', 6693),\n",
       " ('mail.protonmail.com', 6146),\n",
       " ('search.brave.com', 5779),\n",
       " ('web.whatsapp.com', 5729),\n",
       " ('localhost:8888', 5071),\n",
       " ('docs.google.com', 4599),\n",
       " ('www.netflix.com', 4567),\n",
       " ('mail.google.com', 4221),\n",
       " ('twitter.com', 4153),\n",
       " ('news.ycombinator.com', 3911),\n",
       " ('www.instagram.com', 3265),\n",
       " ('loot.nftically.com', 3120)]"
      ]
     },
     "execution_count": 19,
     "metadata": {},
     "output_type": "execute_result"
    }
   ],
   "source": [
    "%%sql\n",
    "/* Count the number of times each domain name shows up */\n",
    "select\n",
    "DISTINCT (\n",
    "    select domain_name.value\n",
    "    from json_each('[\"' || replace(json_extract(datastr,'$.url'), '/', '\",\"') || '\"]') as domain_name LIMIT 1 OFFSET 2\n",
    ") as distinct_domain_names, COUNT(*) as visits\n",
    "from eventmodel \n",
    "where typeof(json_extract(datastr,'$.url')) != 'null'\n",
    "GROUP BY distinct_domain_names\n",
    "ORDER BY visits DESC\n",
    "limit 20;"
   ]
  }
 ],
 "metadata": {
  "kernelspec": {
   "display_name": "Python 3 (ipykernel)",
   "language": "python",
   "name": "python3"
  },
  "language_info": {
   "codemirror_mode": {
    "name": "ipython",
    "version": 3
   },
   "file_extension": ".py",
   "mimetype": "text/x-python",
   "name": "python",
   "nbconvert_exporter": "python",
   "pygments_lexer": "ipython3",
   "version": "3.8.12"
  }
 },
 "nbformat": 4,
 "nbformat_minor": 5
}
