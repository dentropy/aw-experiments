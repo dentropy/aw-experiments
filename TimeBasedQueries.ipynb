{
 "cells": [
  {
   "cell_type": "code",
   "execution_count": 1,
   "id": "d4e3def5-693c-46b3-b0b3-520fbfeb275a",
   "metadata": {},
   "outputs": [],
   "source": [
    " %load_ext sql"
   ]
  },
  {
   "cell_type": "code",
   "execution_count": 4,
   "id": "4a1e5552-e63e-4875-9380-57949e0f288b",
   "metadata": {},
   "outputs": [],
   "source": [
    "%sql sqlite:////media/paul/LinuxStuff/Mega/QuantifiedSelf/ActivityWatch/peewee-sqlite.v2.db"
   ]
  },
  {
   "cell_type": "code",
   "execution_count": 5,
   "id": "7fac49b7-f7dd-4d06-95fa-3d38ce295a9b",
   "metadata": {},
   "outputs": [
    {
     "name": "stdout",
     "output_type": "stream",
     "text": [
      " * sqlite:////media/paul/LinuxStuff/Mega/QuantifiedSelf/ActivityWatch/peewee-sqlite.v2.db\n",
      "Done.\n"
     ]
    },
    {
     "data": {
      "text/html": [
       "<table>\n",
       "    <tr>\n",
       "        <th>json_object</th>\n",
       "    </tr>\n",
       "    <tr>\n",
       "        <td>chrome://newtab/</td>\n",
       "    </tr>\n",
       "    <tr>\n",
       "        <td>https://duckduckgo.com/?q=The+secret+language+of+relationships&amp;t=brave&amp;ia=web</td>\n",
       "    </tr>\n",
       "    <tr>\n",
       "        <td>chrome://newtab/</td>\n",
       "    </tr>\n",
       "    <tr>\n",
       "        <td>http://localhost:5600/#/timeline</td>\n",
       "    </tr>\n",
       "    <tr>\n",
       "        <td></td>\n",
       "    </tr>\n",
       "    <tr>\n",
       "        <td>chrome://newtab/</td>\n",
       "    </tr>\n",
       "    <tr>\n",
       "        <td>https://www.linkedin.com/</td>\n",
       "    </tr>\n",
       "    <tr>\n",
       "        <td></td>\n",
       "    </tr>\n",
       "    <tr>\n",
       "        <td>chrome://newtab/</td>\n",
       "    </tr>\n",
       "    <tr>\n",
       "        <td>https://duckduckgo.com/?q=Alernative+to+Sessionbox&amp;t=brave&amp;ia=web</td>\n",
       "    </tr>\n",
       "</table>"
      ],
      "text/plain": [
       "[('chrome://newtab/',),\n",
       " ('https://duckduckgo.com/?q=The+secret+language+of+relationships&t=brave&ia=web',),\n",
       " ('chrome://newtab/',),\n",
       " ('http://localhost:5600/#/timeline',),\n",
       " ('',),\n",
       " ('chrome://newtab/',),\n",
       " ('https://www.linkedin.com/',),\n",
       " ('',),\n",
       " ('chrome://newtab/',),\n",
       " ('https://duckduckgo.com/?q=Alernative+to+Sessionbox&t=brave&ia=web',)]"
      ]
     },
     "execution_count": 5,
     "metadata": {},
     "output_type": "execute_result"
    }
   ],
   "source": [
    "%%sql\n",
    "select  json_extract(datastr,'$.url') as json_object \n",
    "from eventmodel \n",
    "where typeof(json_object) != 'null'\n",
    "LIMIT 10;"
   ]
  },
  {
   "cell_type": "code",
   "execution_count": 9,
   "id": "e29bac88-70e1-4eec-884b-62ebacb331bb",
   "metadata": {},
   "outputs": [
    {
     "name": "stdout",
     "output_type": "stream",
     "text": [
      " * sqlite:////media/paul/LinuxStuff/Mega/QuantifiedSelf/ActivityWatch/peewee-sqlite.v2.db\n",
      "Done.\n"
     ]
    },
    {
     "data": {
      "text/html": [
       "<table>\n",
       "    <tr>\n",
       "        <th>timestamp</th>\n",
       "        <th>json_object</th>\n",
       "    </tr>\n",
       "    <tr>\n",
       "        <td>2021-09-04 13:09:15.574000+00:00</td>\n",
       "        <td>chrome://newtab/</td>\n",
       "    </tr>\n",
       "    <tr>\n",
       "        <td>2021-09-04 13:10:15.752000+00:00</td>\n",
       "        <td>https://duckduckgo.com/?q=The+secret+language+of+relationships&amp;t=brave&amp;ia=web</td>\n",
       "    </tr>\n",
       "    <tr>\n",
       "        <td>2021-09-04 13:10:32.455000+00:00</td>\n",
       "        <td>chrome://newtab/</td>\n",
       "    </tr>\n",
       "    <tr>\n",
       "        <td>2021-09-04 13:10:37.442000+00:00</td>\n",
       "        <td>http://localhost:5600/#/timeline</td>\n",
       "    </tr>\n",
       "    <tr>\n",
       "        <td>2021-09-04 13:12:38.116000+00:00</td>\n",
       "        <td></td>\n",
       "    </tr>\n",
       "    <tr>\n",
       "        <td>2021-09-04 13:12:42.464000+00:00</td>\n",
       "        <td>chrome://newtab/</td>\n",
       "    </tr>\n",
       "    <tr>\n",
       "        <td>2021-09-04 13:13:02.469000+00:00</td>\n",
       "        <td>https://www.linkedin.com/</td>\n",
       "    </tr>\n",
       "    <tr>\n",
       "        <td>2021-09-04 13:13:04.921000+00:00</td>\n",
       "        <td></td>\n",
       "    </tr>\n",
       "    <tr>\n",
       "        <td>2021-09-04 13:13:07.470000+00:00</td>\n",
       "        <td>chrome://newtab/</td>\n",
       "    </tr>\n",
       "    <tr>\n",
       "        <td>2021-09-04 13:13:12.471000+00:00</td>\n",
       "        <td>https://duckduckgo.com/?q=Alernative+to+Sessionbox&amp;t=brave&amp;ia=web</td>\n",
       "    </tr>\n",
       "</table>"
      ],
      "text/plain": [
       "[('2021-09-04 13:09:15.574000+00:00', 'chrome://newtab/'),\n",
       " ('2021-09-04 13:10:15.752000+00:00', 'https://duckduckgo.com/?q=The+secret+language+of+relationships&t=brave&ia=web'),\n",
       " ('2021-09-04 13:10:32.455000+00:00', 'chrome://newtab/'),\n",
       " ('2021-09-04 13:10:37.442000+00:00', 'http://localhost:5600/#/timeline'),\n",
       " ('2021-09-04 13:12:38.116000+00:00', ''),\n",
       " ('2021-09-04 13:12:42.464000+00:00', 'chrome://newtab/'),\n",
       " ('2021-09-04 13:13:02.469000+00:00', 'https://www.linkedin.com/'),\n",
       " ('2021-09-04 13:13:04.921000+00:00', ''),\n",
       " ('2021-09-04 13:13:07.470000+00:00', 'chrome://newtab/'),\n",
       " ('2021-09-04 13:13:12.471000+00:00', 'https://duckduckgo.com/?q=Alernative+to+Sessionbox&t=brave&ia=web')]"
      ]
     },
     "execution_count": 9,
     "metadata": {},
     "output_type": "execute_result"
    }
   ],
   "source": [
    "%%sql\n",
    "select  timestamp, json_extract(datastr,'$.url') as json_object \n",
    "from eventmodel \n",
    "where typeof(json_object) != 'null'\n",
    "LIMIT 10;"
   ]
  },
  {
   "cell_type": "code",
   "execution_count": 33,
   "id": "454ecef7-0603-4c76-afe1-cc870e78e290",
   "metadata": {},
   "outputs": [
    {
     "name": "stdout",
     "output_type": "stream",
     "text": [
      " * sqlite:////media/paul/LinuxStuff/Mega/QuantifiedSelf/ActivityWatch/peewee-sqlite.v2.db\n",
      "Done.\n"
     ]
    },
    {
     "data": {
      "text/html": [
       "<table>\n",
       "    <tr>\n",
       "        <th>timestamp</th>\n",
       "        <th>json_object</th>\n",
       "    </tr>\n",
       "    <tr>\n",
       "        <td>2022-07-05 07:39:22.341000+00:00</td>\n",
       "        <td>https://www.smbc-comics.com/comic/quantum-computer</td>\n",
       "    </tr>\n",
       "    <tr>\n",
       "        <td>2022-07-05 07:39:17.338000+00:00</td>\n",
       "        <td>https://www.smbc-comics.com/comic/quantum-computer</td>\n",
       "    </tr>\n",
       "    <tr>\n",
       "        <td>2022-07-05 07:38:17.314000+00:00</td>\n",
       "        <td>https://www.smbc-comics.com/comic/time-traveling-punishment</td>\n",
       "    </tr>\n",
       "    <tr>\n",
       "        <td>2022-07-05 07:17:51.866000+00:00</td>\n",
       "        <td>https://9anime.id/watch/trapped-in-a-dating-sim-the-world-of-otome-games-is-tough-for-mobs-dub.ll30m/ep-7</td>\n",
       "    </tr>\n",
       "    <tr>\n",
       "        <td>2022-07-05 07:17:21.856000+00:00</td>\n",
       "        <td>https://9anime.id/watch/trapped-in-a-dating-sim-the-world-of-otome-games-is-tough-for-mobs-dub.ll30m/ep-7</td>\n",
       "    </tr>\n",
       "    <tr>\n",
       "        <td>2022-07-05 07:17:16.855000+00:00</td>\n",
       "        <td>https://9anime.id/watch/trapped-in-a-dating-sim-the-world-of-otome-games-is-tough-for-mobs-dub.ll30m/ep-7</td>\n",
       "    </tr>\n",
       "    <tr>\n",
       "        <td>2022-07-05 07:17:11.854000+00:00</td>\n",
       "        <td>https://www.smbc-comics.com/comic/the-criterion-of-embarrassment</td>\n",
       "    </tr>\n",
       "    <tr>\n",
       "        <td>2022-07-05 07:16:56.847000+00:00</td>\n",
       "        <td>https://www.smbc-comics.com/comic/bedroom-experimentation</td>\n",
       "    </tr>\n",
       "    <tr>\n",
       "        <td>2022-07-05 07:16:51.850000+00:00</td>\n",
       "        <td>https://www.smbc-comics.com/comic/bedroom-experimentation</td>\n",
       "    </tr>\n",
       "    <tr>\n",
       "        <td>2022-07-05 07:16:21.818000+00:00</td>\n",
       "        <td>https://www.smbc-comics.com/comic/geoengineering</td>\n",
       "    </tr>\n",
       "</table>"
      ],
      "text/plain": [
       "[('2022-07-05 07:39:22.341000+00:00', 'https://www.smbc-comics.com/comic/quantum-computer'),\n",
       " ('2022-07-05 07:39:17.338000+00:00', 'https://www.smbc-comics.com/comic/quantum-computer'),\n",
       " ('2022-07-05 07:38:17.314000+00:00', 'https://www.smbc-comics.com/comic/time-traveling-punishment'),\n",
       " ('2022-07-05 07:17:51.866000+00:00', 'https://9anime.id/watch/trapped-in-a-dating-sim-the-world-of-otome-games-is-tough-for-mobs-dub.ll30m/ep-7'),\n",
       " ('2022-07-05 07:17:21.856000+00:00', 'https://9anime.id/watch/trapped-in-a-dating-sim-the-world-of-otome-games-is-tough-for-mobs-dub.ll30m/ep-7'),\n",
       " ('2022-07-05 07:17:16.855000+00:00', 'https://9anime.id/watch/trapped-in-a-dating-sim-the-world-of-otome-games-is-tough-for-mobs-dub.ll30m/ep-7'),\n",
       " ('2022-07-05 07:17:11.854000+00:00', 'https://www.smbc-comics.com/comic/the-criterion-of-embarrassment'),\n",
       " ('2022-07-05 07:16:56.847000+00:00', 'https://www.smbc-comics.com/comic/bedroom-experimentation'),\n",
       " ('2022-07-05 07:16:51.850000+00:00', 'https://www.smbc-comics.com/comic/bedroom-experimentation'),\n",
       " ('2022-07-05 07:16:21.818000+00:00', 'https://www.smbc-comics.com/comic/geoengineering')]"
      ]
     },
     "execution_count": 33,
     "metadata": {},
     "output_type": "execute_result"
    }
   ],
   "source": [
    "%%sql\n",
    "select  timestamp, json_extract(datastr,'$.url') as json_object \n",
    "from eventmodel \n",
    "where typeof(json_object) != 'null'\n",
    "AND timestamp < date('2022-07-06')\n",
    "ORDER BY timestamp desc\n",
    "LIMIT 10;"
   ]
  },
  {
   "cell_type": "code",
   "execution_count": 47,
   "id": "d7680355-a6fd-462d-a67e-a1f709e3ce0c",
   "metadata": {},
   "outputs": [
    {
     "name": "stdout",
     "output_type": "stream",
     "text": [
      " * sqlite:////media/paul/LinuxStuff/Mega/QuantifiedSelf/ActivityWatch/peewee-sqlite.v2.db\n",
      "Done.\n"
     ]
    },
    {
     "data": {
      "text/html": [
       "<table>\n",
       "    <tr>\n",
       "        <th>Month</th>\n",
       "        <th>num_events_per_month</th>\n",
       "    </tr>\n",
       "    <tr>\n",
       "        <td>01-2022</td>\n",
       "        <td>119003</td>\n",
       "    </tr>\n",
       "    <tr>\n",
       "        <td>02-2022</td>\n",
       "        <td>107502</td>\n",
       "    </tr>\n",
       "    <tr>\n",
       "        <td>03-2022</td>\n",
       "        <td>62747</td>\n",
       "    </tr>\n",
       "    <tr>\n",
       "        <td>04-2022</td>\n",
       "        <td>48177</td>\n",
       "    </tr>\n",
       "    <tr>\n",
       "        <td>05-2022</td>\n",
       "        <td>22885</td>\n",
       "    </tr>\n",
       "    <tr>\n",
       "        <td>06-2022</td>\n",
       "        <td>6439</td>\n",
       "    </tr>\n",
       "    <tr>\n",
       "        <td>07-2022</td>\n",
       "        <td>14145</td>\n",
       "    </tr>\n",
       "    <tr>\n",
       "        <td>08-2022</td>\n",
       "        <td>8973</td>\n",
       "    </tr>\n",
       "    <tr>\n",
       "        <td>09-2021</td>\n",
       "        <td>54653</td>\n",
       "    </tr>\n",
       "    <tr>\n",
       "        <td>10-2021</td>\n",
       "        <td>61353</td>\n",
       "    </tr>\n",
       "</table>"
      ],
      "text/plain": [
       "[('01-2022', 119003),\n",
       " ('02-2022', 107502),\n",
       " ('03-2022', 62747),\n",
       " ('04-2022', 48177),\n",
       " ('05-2022', 22885),\n",
       " ('06-2022', 6439),\n",
       " ('07-2022', 14145),\n",
       " ('08-2022', 8973),\n",
       " ('09-2021', 54653),\n",
       " ('10-2021', 61353)]"
      ]
     },
     "execution_count": 47,
     "metadata": {},
     "output_type": "execute_result"
    }
   ],
   "source": [
    "%%sql\n",
    "select  \n",
    "    strftime('%m-%Y',timestamp) as Month, \n",
    "    count(strftime('%m',timestamp)) as num_events_per_month\n",
    "from eventmodel \n",
    "GROUP BY Month\n",
    "LIMIT 10;"
   ]
  },
  {
   "cell_type": "code",
   "execution_count": 71,
   "id": "efc75fe1-b864-416a-b111-e956d65ef570",
   "metadata": {},
   "outputs": [
    {
     "name": "stdout",
     "output_type": "stream",
     "text": [
      " * sqlite:////media/paul/LinuxStuff/Mega/QuantifiedSelf/ActivityWatch/peewee-sqlite.v2.db\n",
      "Done.\n"
     ]
    },
    {
     "data": {
      "text/html": [
       "<table>\n",
       "    <tr>\n",
       "        <th>AWDateTime</th>\n",
       "        <th>EventsPerHour</th>\n",
       "    </tr>\n",
       "    <tr>\n",
       "        <td>06-2022 03</td>\n",
       "        <td>1</td>\n",
       "    </tr>\n",
       "    <tr>\n",
       "        <td>06-2022 09</td>\n",
       "        <td>1</td>\n",
       "    </tr>\n",
       "    <tr>\n",
       "        <td>06-2022 13</td>\n",
       "        <td>148</td>\n",
       "    </tr>\n",
       "    <tr>\n",
       "        <td>06-2022 14</td>\n",
       "        <td>145</td>\n",
       "    </tr>\n",
       "    <tr>\n",
       "        <td>06-2022 15</td>\n",
       "        <td>19</td>\n",
       "    </tr>\n",
       "    <tr>\n",
       "        <td>06-2022 16</td>\n",
       "        <td>358</td>\n",
       "    </tr>\n",
       "    <tr>\n",
       "        <td>06-2022 17</td>\n",
       "        <td>174</td>\n",
       "    </tr>\n",
       "    <tr>\n",
       "        <td>06-2022 18</td>\n",
       "        <td>594</td>\n",
       "    </tr>\n",
       "    <tr>\n",
       "        <td>06-2022 19</td>\n",
       "        <td>1101</td>\n",
       "    </tr>\n",
       "    <tr>\n",
       "        <td>06-2022 20</td>\n",
       "        <td>994</td>\n",
       "    </tr>\n",
       "    <tr>\n",
       "        <td>06-2022 21</td>\n",
       "        <td>1241</td>\n",
       "    </tr>\n",
       "    <tr>\n",
       "        <td>06-2022 22</td>\n",
       "        <td>52</td>\n",
       "    </tr>\n",
       "    <tr>\n",
       "        <td>06-2022 23</td>\n",
       "        <td>104</td>\n",
       "    </tr>\n",
       "</table>"
      ],
      "text/plain": [
       "[('06-2022 03', 1),\n",
       " ('06-2022 09', 1),\n",
       " ('06-2022 13', 148),\n",
       " ('06-2022 14', 145),\n",
       " ('06-2022 15', 19),\n",
       " ('06-2022 16', 358),\n",
       " ('06-2022 17', 174),\n",
       " ('06-2022 18', 594),\n",
       " ('06-2022 19', 1101),\n",
       " ('06-2022 20', 994),\n",
       " ('06-2022 21', 1241),\n",
       " ('06-2022 22', 52),\n",
       " ('06-2022 23', 104)]"
      ]
     },
     "execution_count": 71,
     "metadata": {},
     "output_type": "execute_result"
    }
   ],
   "source": [
    "%%sql\n",
    "select \n",
    "    strftime('%m-%Y %H',timestamp) as AWDateTime,\n",
    "    COUNT(  strftime('%m-%Y %H',timestamp) ) as EventsPerHour\n",
    "from eventmodel \n",
    "WHERE timestamp > DATE('2022-06-06')\n",
    "AND   timestamp < DATE('2022-06-20')\n",
    "GROUP BY AWDateTime\n",
    "ORDER BY AWDateTime\n",
    "LIMIT 20;"
   ]
  },
  {
   "cell_type": "code",
   "execution_count": null,
   "id": "b7a081e4-7886-4b3e-9a75-8a8e29fbd709",
   "metadata": {},
   "outputs": [],
   "source": []
  }
 ],
 "metadata": {
  "kernelspec": {
   "display_name": "Python 3 (ipykernel)",
   "language": "python",
   "name": "python3"
  },
  "language_info": {
   "codemirror_mode": {
    "name": "ipython",
    "version": 3
   },
   "file_extension": ".py",
   "mimetype": "text/x-python",
   "name": "python",
   "nbconvert_exporter": "python",
   "pygments_lexer": "ipython3",
   "version": "3.8.12"
  }
 },
 "nbformat": 4,
 "nbformat_minor": 5
}
