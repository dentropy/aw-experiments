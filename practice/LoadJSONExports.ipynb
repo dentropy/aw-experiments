{
 "cells": [
  {
   "cell_type": "code",
   "execution_count": 8,
   "id": "0345a51f-a7b6-4e76-83d7-72b85775af45",
   "metadata": {},
   "outputs": [],
   "source": [
    "import json\n",
    "import pandas as pd"
   ]
  },
  {
   "cell_type": "code",
   "execution_count": 10,
   "id": "8d5a545c-d115-48f1-b8bf-af4af443ddd2",
   "metadata": {},
   "outputs": [],
   "source": [
    "my_bucket = json.load(open('/home/paul/Downloads/aw-bucket-export_aw-stopwatch.json'))"
   ]
  },
  {
   "cell_type": "code",
   "execution_count": 11,
   "id": "3198b6fd-9785-4fcb-b752-9ae69b9d65ff",
   "metadata": {},
   "outputs": [
    {
     "data": {
      "text/plain": [
       "dict_keys(['buckets'])"
      ]
     },
     "execution_count": 11,
     "metadata": {},
     "output_type": "execute_result"
    }
   ],
   "source": [
    "my_bucket.keys()"
   ]
  },
  {
   "cell_type": "code",
   "execution_count": 13,
   "id": "e9fbc05b-7573-48af-9961-7ef9bea799f4",
   "metadata": {},
   "outputs": [
    {
     "data": {
      "text/plain": [
       "dict_keys(['aw-stopwatch'])"
      ]
     },
     "execution_count": 13,
     "metadata": {},
     "output_type": "execute_result"
    }
   ],
   "source": [
    "my_bucket[\"buckets\"].keys()"
   ]
  },
  {
   "cell_type": "code",
   "execution_count": 14,
   "id": "ac773def-84ae-42c9-b659-19db628a5545",
   "metadata": {},
   "outputs": [
    {
     "data": {
      "text/plain": [
       "dict_keys(['id', 'created', 'name', 'type', 'client', 'hostname', 'events'])"
      ]
     },
     "execution_count": 14,
     "metadata": {},
     "output_type": "execute_result"
    }
   ],
   "source": [
    "my_bucket[\"buckets\"]['aw-stopwatch'].keys()"
   ]
  },
  {
   "cell_type": "code",
   "execution_count": 26,
   "id": "524d9996-64c3-407a-8205-074f48130484",
   "metadata": {},
   "outputs": [],
   "source": [
    "events = my_bucket[\"buckets\"]['aw-stopwatch'][\"events\"]"
   ]
  },
  {
   "cell_type": "code",
   "execution_count": 30,
   "id": "b25717dd-c1ea-44d5-b5b4-2ed303936ade",
   "metadata": {},
   "outputs": [],
   "source": [
    "events_json_string = json.dumps(events)"
   ]
  },
  {
   "cell_type": "code",
   "execution_count": 32,
   "id": "a2891dd9-fe3a-4ef1-86f4-aeecd6d76b36",
   "metadata": {},
   "outputs": [],
   "source": [
    "df = pd.read_json(events_json_string)"
   ]
  },
  {
   "cell_type": "code",
   "execution_count": null,
   "id": "94f23dd6-1b36-461d-a342-4d80d814e9cd",
   "metadata": {},
   "outputs": [],
   "source": []
  }
 ],
 "metadata": {
  "kernelspec": {
   "display_name": "Python 3 (ipykernel)",
   "language": "python",
   "name": "python3"
  },
  "language_info": {
   "codemirror_mode": {
    "name": "ipython",
    "version": 3
   },
   "file_extension": ".py",
   "mimetype": "text/x-python",
   "name": "python",
   "nbconvert_exporter": "python",
   "pygments_lexer": "ipython3",
   "version": "3.8.12"
  }
 },
 "nbformat": 4,
 "nbformat_minor": 5
}
