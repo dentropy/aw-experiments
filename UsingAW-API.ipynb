{
 "cells": [
  {
   "cell_type": "code",
   "execution_count": 1,
   "id": "22497a8d-b467-49c2-a858-a807bb5d0e3f",
   "metadata": {},
   "outputs": [],
   "source": [
    "import requests\n",
    "import pandas as pd\n",
    "import plotly.express as px"
   ]
  },
  {
   "cell_type": "code",
   "execution_count": 2,
   "id": "e2f981c8-404d-4016-af06-ec56cb9e78f6",
   "metadata": {},
   "outputs": [],
   "source": [
    "buckets = requests.get('http://localhost:5600/api/0/buckets/')"
   ]
  },
  {
   "cell_type": "code",
   "execution_count": 3,
   "id": "e319a0cf-8df3-4abd-bd8c-213f2b193318",
   "metadata": {},
   "outputs": [
    {
     "data": {
      "text/plain": [
       "{'aw-watcher-window_pop-os': {'id': 'aw-watcher-window_pop-os',\n",
       "  'created': '2021-09-04T09:09:11.887267+00:00',\n",
       "  'name': None,\n",
       "  'type': 'currentwindow',\n",
       "  'client': 'aw-watcher-window',\n",
       "  'hostname': 'pop-os',\n",
       "  'last_updated': '2022-08-16T01:19:43.746000+00:00'},\n",
       " 'aw-watcher-afk_pop-os': {'id': 'aw-watcher-afk_pop-os',\n",
       "  'created': '2021-09-04T09:09:11.924640+00:00',\n",
       "  'name': None,\n",
       "  'type': 'afkstatus',\n",
       "  'client': 'aw-watcher-afk',\n",
       "  'hostname': 'pop-os',\n",
       "  'last_updated': '2022-08-16T01:19:41.909000+00:00'},\n",
       " 'aw-watcher-web-chrome': {'id': 'aw-watcher-web-chrome',\n",
       "  'created': '2021-09-04T09:09:15.654157+00:00',\n",
       "  'name': None,\n",
       "  'type': 'web.tab.current',\n",
       "  'client': 'aw-client-web',\n",
       "  'hostname': 'unknown',\n",
       "  'last_updated': '2022-08-16T01:19:32.976000+00:00'},\n",
       " 'aw-watcher-vscode_pop-os': {'id': 'aw-watcher-vscode_pop-os',\n",
       "  'created': '2021-09-04T09:11:16.439839+00:00',\n",
       "  'name': None,\n",
       "  'type': 'app.editor.activity',\n",
       "  'client': 'aw-watcher-vscode',\n",
       "  'hostname': 'pop-os',\n",
       "  'last_updated': '2022-08-15T20:04:21.601000+00:00'},\n",
       " 'aw-stopwatch': {'id': 'aw-stopwatch',\n",
       "  'created': '2021-09-26T22:07:55.343300+00:00',\n",
       "  'name': None,\n",
       "  'type': 'general.stopwatch',\n",
       "  'client': 'aw-webui',\n",
       "  'hostname': 'unknown',\n",
       "  'last_updated': '2022-02-18T16:05:33.851000+00:00'},\n",
       " 'aw-watcher-web-firefox': {'id': 'aw-watcher-web-firefox',\n",
       "  'created': '2021-10-01T15:04:31.200349+00:00',\n",
       "  'name': None,\n",
       "  'type': 'web.tab.current',\n",
       "  'client': 'aw-client-web',\n",
       "  'hostname': 'unknown',\n",
       "  'last_updated': '2022-06-11T19:13:05.425000+00:00'}}"
      ]
     },
     "execution_count": 3,
     "metadata": {},
     "output_type": "execute_result"
    }
   ],
   "source": [
    "buckets.json()"
   ]
  },
  {
   "cell_type": "code",
   "execution_count": 4,
   "id": "d57c76b6-0ce1-43f1-a58d-da88a7911427",
   "metadata": {},
   "outputs": [],
   "source": [
    "df = pd.read_json('http://localhost:5600/api/0/buckets/aw-watcher-web-chrome/events')"
   ]
  },
  {
   "cell_type": "code",
   "execution_count": 5,
   "id": "7b416e82-336e-47ea-838d-58002eab7b1b",
   "metadata": {},
   "outputs": [
    {
     "data": {
      "text/plain": [
       "280837"
      ]
     },
     "execution_count": 5,
     "metadata": {},
     "output_type": "execute_result"
    }
   ],
   "source": [
    "len(df)"
   ]
  },
  {
   "cell_type": "code",
   "execution_count": 6,
   "id": "9e3c2704-07f8-4d61-a4f3-2fccca37ae35",
   "metadata": {},
   "outputs": [],
   "source": [
    "df2 = pd.read_json('http://localhost:5600/api/0/buckets/aw-watcher-web-firefox/events')"
   ]
  },
  {
   "cell_type": "code",
   "execution_count": 7,
   "id": "dd7bf96a-db20-40c7-9abc-8e5e3d4c6258",
   "metadata": {},
   "outputs": [
    {
     "data": {
      "text/plain": [
       "8759"
      ]
     },
     "execution_count": 7,
     "metadata": {},
     "output_type": "execute_result"
    }
   ],
   "source": [
    "len(df2)"
   ]
  },
  {
   "cell_type": "code",
   "execution_count": 8,
   "id": "1e73486c-2f12-4c93-a495-0c4e7ec078b4",
   "metadata": {},
   "outputs": [],
   "source": [
    "df = pd.concat([df, df2])"
   ]
  },
  {
   "cell_type": "code",
   "execution_count": 9,
   "id": "1990bf89-0efa-4024-9fe5-da855b34829b",
   "metadata": {},
   "outputs": [
    {
     "data": {
      "text/plain": [
       "289596"
      ]
     },
     "execution_count": 9,
     "metadata": {},
     "output_type": "execute_result"
    }
   ],
   "source": [
    "len(df)"
   ]
  },
  {
   "cell_type": "code",
   "execution_count": 10,
   "id": "20b19feb-adf5-4f46-b12b-54e9f1a4fbdb",
   "metadata": {},
   "outputs": [
    {
     "data": {
      "text/html": [
       "<div>\n",
       "<style scoped>\n",
       "    .dataframe tbody tr th:only-of-type {\n",
       "        vertical-align: middle;\n",
       "    }\n",
       "\n",
       "    .dataframe tbody tr th {\n",
       "        vertical-align: top;\n",
       "    }\n",
       "\n",
       "    .dataframe thead th {\n",
       "        text-align: right;\n",
       "    }\n",
       "</style>\n",
       "<table border=\"1\" class=\"dataframe\">\n",
       "  <thead>\n",
       "    <tr style=\"text-align: right;\">\n",
       "      <th></th>\n",
       "      <th>data</th>\n",
       "    </tr>\n",
       "  </thead>\n",
       "  <tbody>\n",
       "    <tr>\n",
       "      <th>0</th>\n",
       "      <td>{'url': 'http://127.0.0.1:8888/lab/tree/UsingA...</td>\n",
       "    </tr>\n",
       "    <tr>\n",
       "      <th>1</th>\n",
       "      <td>{'url': 'https://plotly.com/python/bar-charts/...</td>\n",
       "    </tr>\n",
       "    <tr>\n",
       "      <th>2</th>\n",
       "      <td>{'url': 'https://plotly.com/python/bar-charts/...</td>\n",
       "    </tr>\n",
       "    <tr>\n",
       "      <th>3</th>\n",
       "      <td>{'url': 'https://search.brave.com/search?q=plo...</td>\n",
       "    </tr>\n",
       "    <tr>\n",
       "      <th>4</th>\n",
       "      <td>{'url': 'chrome://newtab/', 'title': 'New Tab'...</td>\n",
       "    </tr>\n",
       "  </tbody>\n",
       "</table>\n",
       "</div>"
      ],
      "text/plain": [
       "                                                data\n",
       "0  {'url': 'http://127.0.0.1:8888/lab/tree/UsingA...\n",
       "1  {'url': 'https://plotly.com/python/bar-charts/...\n",
       "2  {'url': 'https://plotly.com/python/bar-charts/...\n",
       "3  {'url': 'https://search.brave.com/search?q=plo...\n",
       "4  {'url': 'chrome://newtab/', 'title': 'New Tab'..."
      ]
     },
     "execution_count": 10,
     "metadata": {},
     "output_type": "execute_result"
    }
   ],
   "source": [
    "df[[\"data\"]].head(5)"
   ]
  },
  {
   "cell_type": "code",
   "execution_count": 11,
   "id": "5c8611b5-d056-4e7d-920f-83743c7ff4e9",
   "metadata": {},
   "outputs": [],
   "source": [
    "works_data = pd.json_normalize(df['data'])"
   ]
  },
  {
   "cell_type": "code",
   "execution_count": 12,
   "id": "ff3d6dcc-7822-4dc5-a5c4-f3d0f81a424d",
   "metadata": {},
   "outputs": [
    {
     "data": {
      "text/html": [
       "<div>\n",
       "<style scoped>\n",
       "    .dataframe tbody tr th:only-of-type {\n",
       "        vertical-align: middle;\n",
       "    }\n",
       "\n",
       "    .dataframe tbody tr th {\n",
       "        vertical-align: top;\n",
       "    }\n",
       "\n",
       "    .dataframe thead th {\n",
       "        text-align: right;\n",
       "    }\n",
       "</style>\n",
       "<table border=\"1\" class=\"dataframe\">\n",
       "  <thead>\n",
       "    <tr style=\"text-align: right;\">\n",
       "      <th></th>\n",
       "      <th>url</th>\n",
       "      <th>title</th>\n",
       "      <th>audible</th>\n",
       "      <th>incognito</th>\n",
       "      <th>tabCount</th>\n",
       "    </tr>\n",
       "  </thead>\n",
       "  <tbody>\n",
       "    <tr>\n",
       "      <th>0</th>\n",
       "      <td>http://127.0.0.1:8888/lab/tree/UsingAW-API.ipynb</td>\n",
       "      <td>UsingAW-API.… (4) - JupyterLab</td>\n",
       "      <td>False</td>\n",
       "      <td>False</td>\n",
       "      <td>29</td>\n",
       "    </tr>\n",
       "    <tr>\n",
       "      <th>1</th>\n",
       "      <td>https://plotly.com/python/bar-charts/</td>\n",
       "      <td>Bar charts in Python</td>\n",
       "      <td>False</td>\n",
       "      <td>False</td>\n",
       "      <td>29</td>\n",
       "    </tr>\n",
       "    <tr>\n",
       "      <th>2</th>\n",
       "      <td>https://plotly.com/python/bar-charts/</td>\n",
       "      <td>https://plotly.com/python/bar-charts/</td>\n",
       "      <td>False</td>\n",
       "      <td>False</td>\n",
       "      <td>29</td>\n",
       "    </tr>\n",
       "    <tr>\n",
       "      <th>3</th>\n",
       "      <td>https://search.brave.com/search?q=plotly+bar+g...</td>\n",
       "      <td>plotly bar graph - Brave Search</td>\n",
       "      <td>False</td>\n",
       "      <td>False</td>\n",
       "      <td>29</td>\n",
       "    </tr>\n",
       "    <tr>\n",
       "      <th>4</th>\n",
       "      <td>chrome://newtab/</td>\n",
       "      <td>New Tab</td>\n",
       "      <td>False</td>\n",
       "      <td>False</td>\n",
       "      <td>29</td>\n",
       "    </tr>\n",
       "    <tr>\n",
       "      <th>...</th>\n",
       "      <td>...</td>\n",
       "      <td>...</td>\n",
       "      <td>...</td>\n",
       "      <td>...</td>\n",
       "      <td>...</td>\n",
       "    </tr>\n",
       "    <tr>\n",
       "      <th>289591</th>\n",
       "      <td>https://addons.mozilla.org/en-US/firefox/addon...</td>\n",
       "      <td>Old Reddit Redirect – Get this Extension for 🦊...</td>\n",
       "      <td>False</td>\n",
       "      <td>False</td>\n",
       "      <td>15</td>\n",
       "    </tr>\n",
       "    <tr>\n",
       "      <th>289592</th>\n",
       "      <td>https://addons.mozilla.org/en-US/firefox/addon...</td>\n",
       "      <td>YouTube NonStop – Get this Extension for 🦊 Fir...</td>\n",
       "      <td>False</td>\n",
       "      <td>False</td>\n",
       "      <td>15</td>\n",
       "    </tr>\n",
       "    <tr>\n",
       "      <th>289593</th>\n",
       "      <td>https://addons.mozilla.org/en-US/firefox/addon...</td>\n",
       "      <td>YouTube NonStop – Get this Extension for 🦊 Fir...</td>\n",
       "      <td>False</td>\n",
       "      <td>False</td>\n",
       "      <td>16</td>\n",
       "    </tr>\n",
       "    <tr>\n",
       "      <th>289594</th>\n",
       "      <td>https://addons.mozilla.org/en-US/firefox/addon...</td>\n",
       "      <td>Enhancer for YouTube™ – Get this Extension for...</td>\n",
       "      <td>False</td>\n",
       "      <td>False</td>\n",
       "      <td>17</td>\n",
       "    </tr>\n",
       "    <tr>\n",
       "      <th>289595</th>\n",
       "      <td>https://wiki.dentropydaemon.io/notes/xYtfyr3pF...</td>\n",
       "      <td>Browser Extensions - Dendron</td>\n",
       "      <td>False</td>\n",
       "      <td>False</td>\n",
       "      <td>18</td>\n",
       "    </tr>\n",
       "  </tbody>\n",
       "</table>\n",
       "<p>289596 rows × 5 columns</p>\n",
       "</div>"
      ],
      "text/plain": [
       "                                                      url  \\\n",
       "0        http://127.0.0.1:8888/lab/tree/UsingAW-API.ipynb   \n",
       "1                   https://plotly.com/python/bar-charts/   \n",
       "2                   https://plotly.com/python/bar-charts/   \n",
       "3       https://search.brave.com/search?q=plotly+bar+g...   \n",
       "4                                        chrome://newtab/   \n",
       "...                                                   ...   \n",
       "289591  https://addons.mozilla.org/en-US/firefox/addon...   \n",
       "289592  https://addons.mozilla.org/en-US/firefox/addon...   \n",
       "289593  https://addons.mozilla.org/en-US/firefox/addon...   \n",
       "289594  https://addons.mozilla.org/en-US/firefox/addon...   \n",
       "289595  https://wiki.dentropydaemon.io/notes/xYtfyr3pF...   \n",
       "\n",
       "                                                    title  audible  incognito  \\\n",
       "0                          UsingAW-API.… (4) - JupyterLab    False      False   \n",
       "1                                    Bar charts in Python    False      False   \n",
       "2                   https://plotly.com/python/bar-charts/    False      False   \n",
       "3                         plotly bar graph - Brave Search    False      False   \n",
       "4                                                 New Tab    False      False   \n",
       "...                                                   ...      ...        ...   \n",
       "289591  Old Reddit Redirect – Get this Extension for 🦊...    False      False   \n",
       "289592  YouTube NonStop – Get this Extension for 🦊 Fir...    False      False   \n",
       "289593  YouTube NonStop – Get this Extension for 🦊 Fir...    False      False   \n",
       "289594  Enhancer for YouTube™ – Get this Extension for...    False      False   \n",
       "289595                       Browser Extensions - Dendron    False      False   \n",
       "\n",
       "        tabCount  \n",
       "0             29  \n",
       "1             29  \n",
       "2             29  \n",
       "3             29  \n",
       "4             29  \n",
       "...          ...  \n",
       "289591        15  \n",
       "289592        15  \n",
       "289593        16  \n",
       "289594        17  \n",
       "289595        18  \n",
       "\n",
       "[289596 rows x 5 columns]"
      ]
     },
     "execution_count": 12,
     "metadata": {},
     "output_type": "execute_result"
    }
   ],
   "source": [
    "works_data"
   ]
  },
  {
   "cell_type": "code",
   "execution_count": 13,
   "id": "ec0f1ece-3c22-417d-bc0c-8c42cedfe399",
   "metadata": {},
   "outputs": [
    {
     "data": {
      "text/plain": [
       "'127.0.0.1:8888'"
      ]
     },
     "execution_count": 13,
     "metadata": {},
     "output_type": "execute_result"
    }
   ],
   "source": [
    "\"http://127.0.0.1:8888/lab/tree/UsingAW-API.ipynb\".split(\"/\")[2]"
   ]
  },
  {
   "cell_type": "code",
   "execution_count": 14,
   "id": "b5b77fbb-dacb-4278-ab42-cf142bc04830",
   "metadata": {},
   "outputs": [],
   "source": [
    "works_data[\"parsed_url\"] = works_data[\"url\"].str.split(\"/\")"
   ]
  },
  {
   "cell_type": "code",
   "execution_count": 15,
   "id": "967e5c84-577a-4247-96d6-78eb95c442a8",
   "metadata": {},
   "outputs": [],
   "source": [
    "works_data[\"domain_name\"] = works_data[[\"parsed_url\"]].stack().str[2].unstack()"
   ]
  },
  {
   "cell_type": "code",
   "execution_count": 16,
   "id": "e9da7e28-ef93-45c0-a394-694ff816c11d",
   "metadata": {},
   "outputs": [
    {
     "data": {
      "text/plain": [
       "5192"
      ]
     },
     "execution_count": 16,
     "metadata": {},
     "output_type": "execute_result"
    }
   ],
   "source": [
    "# Number of unique domain names\n",
    "works_data['domain_name'].nunique()"
   ]
  },
  {
   "cell_type": "code",
   "execution_count": 17,
   "id": "d4496fc3-2813-42dd-830e-55fcd4728cc4",
   "metadata": {},
   "outputs": [
    {
     "data": {
      "text/plain": [
       "289596"
      ]
     },
     "execution_count": 17,
     "metadata": {},
     "output_type": "execute_result"
    }
   ],
   "source": [
    "# Number of entreries\n",
    "len(works_data)"
   ]
  },
  {
   "cell_type": "code",
   "execution_count": 18,
   "id": "10bc6e4a-f83e-46b3-95e9-bd017f2bc62d",
   "metadata": {},
   "outputs": [
    {
     "ename": "NameError",
     "evalue": "name 'grouped_domains' is not defined",
     "output_type": "error",
     "traceback": [
      "\u001b[0;31m---------------------------------------------------------------------------\u001b[0m",
      "\u001b[0;31mNameError\u001b[0m                                 Traceback (most recent call last)",
      "Input \u001b[0;32mIn [18]\u001b[0m, in \u001b[0;36m<cell line: 3>\u001b[0;34m()\u001b[0m\n\u001b[1;32m      1\u001b[0m count_of_values \u001b[38;5;241m=\u001b[39m \u001b[38;5;241m20\u001b[39m\n\u001b[1;32m      2\u001b[0m data \u001b[38;5;241m=\u001b[39m {\n\u001b[1;32m      3\u001b[0m     \u001b[38;5;124m\"\u001b[39m\u001b[38;5;124mnames\u001b[39m\u001b[38;5;124m\"\u001b[39m   :  works_data[\u001b[38;5;124m\"\u001b[39m\u001b[38;5;124mdomain_name\u001b[39m\u001b[38;5;124m\"\u001b[39m]\u001b[38;5;241m.\u001b[39mvalue_counts()[\u001b[38;5;241m0\u001b[39m:count_of_values],\n\u001b[0;32m----> 4\u001b[0m     \u001b[38;5;124m\"\u001b[39m\u001b[38;5;124mvalues\u001b[39m\u001b[38;5;124m\"\u001b[39m :   \u001b[43mgrouped_domains\u001b[49m\u001b[38;5;241m.\u001b[39mindex\u001b[38;5;241m.\u001b[39mtolist()[\u001b[38;5;241m0\u001b[39m:count_of_values]\n\u001b[1;32m      5\u001b[0m }\n",
      "\u001b[0;31mNameError\u001b[0m: name 'grouped_domains' is not defined"
     ]
    }
   ],
   "source": [
    "count_of_values = 20\n",
    "data = {\n",
    "    \"names\"   :  works_data[\"domain_name\"].value_counts()[0:count_of_values],\n",
    "    \"values\" :   grouped_domains.index.tolist()[0:count_of_values]\n",
    "}"
   ]
  },
  {
   "cell_type": "code",
   "execution_count": null,
   "id": "bd8189e5-c818-4990-9c6e-0a996b8ca01b",
   "metadata": {},
   "outputs": [],
   "source": [
    "fig = px.bar(data, x='values', y='names', orientation='v', width=1080, height=1000)\n",
    "fig.show()"
   ]
  }
 ],
 "metadata": {
  "kernelspec": {
   "display_name": "Python 3 (ipykernel)",
   "language": "python",
   "name": "python3"
  },
  "language_info": {
   "codemirror_mode": {
    "name": "ipython",
    "version": 3
   },
   "file_extension": ".py",
   "mimetype": "text/x-python",
   "name": "python",
   "nbconvert_exporter": "python",
   "pygments_lexer": "ipython3",
   "version": "3.8.12"
  }
 },
 "nbformat": 4,
 "nbformat_minor": 5
}
